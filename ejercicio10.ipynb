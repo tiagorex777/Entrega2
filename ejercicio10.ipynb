{
 "cells": [
  {
   "cell_type": "markdown",
   "metadata": {},
   "source": [
    "10. Un club de hockey posee las estadísticas de todxs sus jugadorxs de la última\n",
    "temporada jugada del torneo de hockey mixto. Poseen una lista con los nombres, otra\n",
    "Entrega 2\n",
    "Pautas\n",
    "con los goles a favor, otra con los goles evitados y la última con las asistencias\n",
    "realizadas. El club está por otorgar los premios de cierre de temporada y necesita:\n"
   ]
  },
  {
   "cell_type": "code",
   "execution_count": null,
   "metadata": {},
   "outputs": [],
   "source": [
    "names = \"\"\" Agustin, Yanina, Andrés, Ariadna, Bautista, CAROLINA,\n",
    "CESAR, David, Diego, Dolores, DYLAN, ELIANA, Emanuel, Fabián, Noelia,\n",
    "Francsica', FEDERICO, Fernanda, GONZALO, Nancy \"\"\"\n",
    "goals = [0, 10, 4, 0, 5, 14, 0, 0, 7, 2, 1, 1, 1, 5, 6, 1, 1, 2, 0,\n",
    "11]\n",
    "goals_avoided = [0, 2, 0, 0, 5, 2, 0, 0, 1, 2, 0, 5, 5, 0, 1, 0, 2,\n",
    "3, 0, 0]\n",
    "assists = [0, 5, 1, 0, 5, 2, 0, 0, 1, 2, 1, 5, 5, 0, 1, 0, 2, 3, 1,\n",
    "0]"
   ]
  },
  {
   "cell_type": "markdown",
   "metadata": {},
   "source": [
    "1. Generar una estructura todas las estadísticas asociadas a cada jugador o\n",
    "jugadora.\n"
   ]
  },
  {
   "cell_type": "markdown",
   "metadata": {},
   "source": [
    "importo el metodo calculadora donde tengo todas las funciones que usare en este problema"
   ]
  },
  {
   "cell_type": "code",
   "execution_count": null,
   "metadata": {},
   "outputs": [],
   "source": [
    "import calculadora"
   ]
  },
  {
   "cell_type": "markdown",
   "metadata": {},
   "source": [
    "usando el metodo all_players de calculadora junto todos los datos de los jugadores esparcidos en las 4 listas en una unica lista con todos sus datos"
   ]
  },
  {
   "cell_type": "code",
   "execution_count": null,
   "metadata": {},
   "outputs": [],
   "source": [
    "\n",
    "players_list = calculadora.all_players(names, goals, goals_avoided, assists)\n",
    "print(players_list)\n"
   ]
  },
  {
   "cell_type": "markdown",
   "metadata": {},
   "source": [
    "2. Conocer el nombre y la cantidad de goles del goleador o goleadora.\n"
   ]
  },
  {
   "cell_type": "markdown",
   "metadata": {},
   "source": [
    "usando el metodo max_scorer de calculadora recibo el nombre y los goles del maximo goleador"
   ]
  },
  {
   "cell_type": "code",
   "execution_count": null,
   "metadata": {},
   "outputs": [],
   "source": [
    "max_goals, max_name_goals = calculadora.max_scorer(players_list)\n",
    "print(f\"el goaleador/a es {max_name_goals} con {max_goals} goles\")"
   ]
  },
  {
   "cell_type": "markdown",
   "metadata": {},
   "source": [
    "3. Conocer el nombre del jugador o jugadora más influyente, esto se consigue\n",
    "sumando goles a favor, goles evitados y cantidad de asistencias. La particularidad\n",
    "es que los goles a favor, evitados y las asistencias NO valen lo mismo (es un\n",
    "promedio ponderado):\n",
    "\n",
    "goles_a_favor   = 1.5  \n",
    "goles_evitados  = 1.25  \n",
    "asistencias     = 1  "
   ]
  },
  {
   "cell_type": "markdown",
   "metadata": {},
   "source": [
    "usando el metodo most_influential del modulo calculadora recibo el jugador el nombre del jugador mas influyente y su puntuacion"
   ]
  },
  {
   "cell_type": "code",
   "execution_count": null,
   "metadata": {},
   "outputs": [],
   "source": [
    "max, max_influential = calculadora.most_infuential(players_list)\n",
    "print(f\"el mas influyente del equipo es el jugador/a {max_influential} con una puntuacion de {max} puntos\")"
   ]
  },
  {
   "cell_type": "markdown",
   "metadata": {},
   "source": [
    "4. Conocer el promedio de goles por partido del equipo en general. Dato: Se jugaron\n",
    "25 partidos en la temporada.\n"
   ]
  },
  {
   "cell_type": "markdown",
   "metadata": {},
   "source": [
    "usando la metodo prom del modulo calculadora que me calcula el promedio del equipo"
   ]
  },
  {
   "cell_type": "code",
   "execution_count": null,
   "metadata": {},
   "outputs": [],
   "source": [
    "prom = calculadora.prom(players_list)\n",
    "print(f\" el equipo tiene un promedio de {prom} goles por partido\")"
   ]
  },
  {
   "cell_type": "markdown",
   "metadata": {},
   "source": [
    "5. Conocer el promedio de goles por partido del goleador o goleadora. Dato: Se\n",
    "jugaron 25 partidos en la temporada.\n"
   ]
  },
  {
   "cell_type": "markdown",
   "metadata": {},
   "source": [
    "usando el metodo prom_scorer sobre el goleador/a obtenido en el punto 2 me calcula el promedio de gol del goleador/a"
   ]
  },
  {
   "cell_type": "code",
   "execution_count": null,
   "metadata": {},
   "outputs": [],
   "source": [
    "prom_scorer = calculadora.prom_scorer(max_goals)\n",
    "print(f\"el goleador/a {max_name_goals} tiene un promedio de {prom_scorer} goles por partido\")"
   ]
  }
 ],
 "metadata": {
  "kernelspec": {
   "display_name": "venv",
   "language": "python",
   "name": "python3"
  },
  "language_info": {
   "codemirror_mode": {
    "name": "ipython",
    "version": 3
   },
   "file_extension": ".py",
   "mimetype": "text/x-python",
   "name": "python",
   "nbconvert_exporter": "python",
   "pygments_lexer": "ipython3",
   "version": "3.11.2"
  }
 },
 "nbformat": 4,
 "nbformat_minor": 2
}
